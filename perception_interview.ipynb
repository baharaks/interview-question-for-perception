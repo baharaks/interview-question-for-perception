{
 "cells": [
  {
   "cell_type": "markdown",
   "metadata": {},
   "source": [
    "#  Implement a linkedlist\n",
    "        "
   ]
  },
  {
   "cell_type": "code",
   "execution_count": 89,
   "metadata": {},
   "outputs": [],
   "source": [
    "class Node(object):\n",
    "    def __init__(self, data):\n",
    "        self.value = data\n",
    "        self.next = None\n",
    "    def getValue(self):\n",
    "        return self.Value"
   ]
  },
  {
   "cell_type": "code",
   "execution_count": 90,
   "metadata": {},
   "outputs": [],
   "source": [
    "a = Node(1)\n",
    "b = Node(2)\n",
    "c = Node(3)\n",
    "a.next = b\n",
    "b.next = c"
   ]
  },
  {
   "cell_type": "code",
   "execution_count": 91,
   "metadata": {},
   "outputs": [
    {
     "data": {
      "text/plain": [
       "1"
      ]
     },
     "execution_count": 91,
     "metadata": {},
     "output_type": "execute_result"
    }
   ],
   "source": [
    "a.value"
   ]
  },
  {
   "cell_type": "markdown",
   "metadata": {},
   "source": [
    "# make this code O(n)"
   ]
  },
  {
   "cell_type": "code",
   "execution_count": 93,
   "metadata": {},
   "outputs": [
    {
     "name": "stdout",
     "output_type": "stream",
     "text": [
      "0\n",
      "0\n",
      "0\n",
      "0\n",
      "0\n",
      "0\n",
      "0\n",
      "0\n",
      "0\n",
      "0\n",
      "0\n",
      "0\n",
      "1\n",
      "1\n",
      "1\n",
      "1\n",
      "1\n",
      "1\n",
      "1\n",
      "1\n",
      "1\n",
      "1\n",
      "1\n",
      "1\n",
      "2\n",
      "2\n",
      "2\n",
      "2\n",
      "2\n",
      "2\n",
      "2\n",
      "2\n",
      "2\n",
      "2\n",
      "2\n",
      "2\n",
      "3\n",
      "3\n",
      "3\n",
      "3\n",
      "3\n",
      "3\n",
      "3\n",
      "3\n",
      "3\n",
      "3\n",
      "3\n",
      "3\n",
      "4\n",
      "4\n",
      "4\n",
      "4\n",
      "4\n",
      "4\n",
      "4\n",
      "4\n",
      "4\n",
      "4\n",
      "4\n",
      "4\n"
     ]
    }
   ],
   "source": [
    "x = [5, 3, 4]\n",
    "#print(x[1])\n",
    "for i in range(x[0]):\n",
    "    for j in range(x[1]):\n",
    "        for k in range(x[2]):\n",
    "            print(i)"
   ]
  },
  {
   "cell_type": "code",
   "execution_count": 95,
   "metadata": {},
   "outputs": [
    {
     "name": "stdout",
     "output_type": "stream",
     "text": [
      "3\n"
     ]
    }
   ],
   "source": [
    "y = [0, 0, 0]\n",
    "print(len(y))\n",
    "def printlist(y,i):\n",
    "    if i < len(y):\n",
    "        return -1\n",
    "    else:\n",
    "        return printlist(y,i+1)"
   ]
  },
  {
   "cell_type": "code",
   "execution_count": 96,
   "metadata": {},
   "outputs": [
    {
     "name": "stdout",
     "output_type": "stream",
     "text": [
      "-1\n"
     ]
    }
   ],
   "source": [
    "print(printlist(y,0))"
   ]
  },
  {
   "cell_type": "code",
   "execution_count": 97,
   "metadata": {},
   "outputs": [
    {
     "name": "stdout",
     "output_type": "stream",
     "text": [
      "(1, 2, 3)\n",
      "(1, 3, 2)\n",
      "(2, 1, 3)\n",
      "(2, 3, 1)\n",
      "(3, 1, 2)\n",
      "(3, 2, 1)\n"
     ]
    }
   ],
   "source": [
    "from itertools import permutations \n",
    "perm = permutations([1, 2, 3]) \n",
    "for i in list(perm): \n",
    "    print(i) "
   ]
  },
  {
   "cell_type": "markdown",
   "metadata": {},
   "source": [
    "# BFS implementation "
   ]
  },
  {
   "cell_type": "code",
   "execution_count": 98,
   "metadata": {},
   "outputs": [],
   "source": [
    "graph = {'A': set(['B', 'C']),\n",
    "         'B': set(['A', 'D', 'E']),\n",
    "         'C': set(['A', 'F']),\n",
    "         'D': set(['B']),\n",
    "         'E': set(['B', 'F']),\n",
    "         'F': set(['C', 'E'])}"
   ]
  },
  {
   "cell_type": "code",
   "execution_count": 104,
   "metadata": {},
   "outputs": [],
   "source": [
    "def BFS(graph, start):\n",
    "    queue = [start]\n",
    "    visited = set()\n",
    "    while queue:\n",
    "        vet = queue.pop(0)\n",
    "        if vet not in visited:\n",
    "            visited.add(vet)\n",
    "        queue.extend(graph[vet]-visited)\n",
    "    if visited:\n",
    "        return True\n",
    "    else:\n",
    "        return False\n",
    "\n",
    "\n",
    "            "
   ]
  },
  {
   "cell_type": "code",
   "execution_count": 105,
   "metadata": {},
   "outputs": [
    {
     "name": "stdout",
     "output_type": "stream",
     "text": [
      "True\n"
     ]
    }
   ],
   "source": [
    "print(BFS(graph, 'A'))"
   ]
  },
  {
   "cell_type": "markdown",
   "metadata": {},
   "source": [
    "# There are 3 cicles intersected and on each of them there is a car modeled as a circle and they move with different speed write a code that returns when two of them collided "
   ]
  },
  {
   "cell_type": "code",
   "execution_count": 82,
   "metadata": {},
   "outputs": [],
   "source": [
    "import math as mt\n",
    "class Vehicles(object):\n",
    "    \n",
    "    def __init__(self, x0, y0, theta, dtheta, v, dt, radius):\n",
    "        self.x = x0\n",
    "        self.y = y0\n",
    "        self.Theta = theta\n",
    "        self.dTheta = dtheta\n",
    "        self.V = v\n",
    "        self.dT = dt\n",
    "        self.radius = radius\n",
    "    \n",
    "    def new_theta(self):\n",
    "        n_theta = self.Theta + self.dTheta\n",
    "        return self.Theta + self.dTheta\n",
    "    \n",
    "    def distance(self):\n",
    "        return self.V*self.dT\n",
    "    \n",
    "    def position(self):\n",
    "        thet = self.new_theta()\n",
    "        dist = self.distance()\n",
    "        new_x = mt.cos(thet)*dist\n",
    "        new_y = mt.sin(thet)*dist\n",
    "        return new_x, new_y\n",
    "    \n",
    "    def body_vehicle(self):\n",
    "        return self.radius\n",
    "        \n",
    "\n"
   ]
  },
  {
   "cell_type": "code",
   "execution_count": 83,
   "metadata": {},
   "outputs": [
    {
     "name": "stdout",
     "output_type": "stream",
     "text": [
      "3\n",
      "0.15000000000000002\n"
     ]
    }
   ],
   "source": [
    "tstamp = 0.1\n",
    "\n",
    "v1 = Vehicles(1,1, 0.1, 0.05, 3, 1, 2)\n",
    "v2 = Vehicles(-1, 1, 0.1, 0.04, 2, 2, 3)\n",
    "print(v1.distance())\n",
    "r1 = v1.body_vehicle()\n",
    "r2 = v2.body_vehicle()\n",
    "x1, y1 = v1.position()\n",
    "#x2, y2 = v2.position()\n",
    "print(v1.new_theta())\n",
    "#d = mt.sqrt((x2-x1)*(x2-x1) + (y2-y1)*(y2-y1))"
   ]
  },
  {
   "cell_type": "code",
   "execution_count": 84,
   "metadata": {},
   "outputs": [],
   "source": [
    "def check_collision(r1, r2, d):\n",
    "    if (r1 + r2)<d:\n",
    "        return True\n",
    "    else:\n",
    "        return False"
   ]
  },
  {
   "cell_type": "code",
   "execution_count": 88,
   "metadata": {},
   "outputs": [
    {
     "name": "stdout",
     "output_type": "stream",
     "text": [
      "True\n"
     ]
    }
   ],
   "source": [
    "dt = 0.1\n",
    "t1 = 0\n",
    "v1 = Vehicles(1,1, 0.1, 0.05, t1, 1, 2)\n",
    "v2 = Vehicles(-1, 1, 0.1, 0.04, t1, 2, 2.5)\n",
    "while(1):\n",
    "    t1 = t1 + dt\n",
    "    r1 = v1.body_vehicle()\n",
    "    r2 = v2.body_vehicle()\n",
    "    x1, y1 = v1.position()\n",
    "    x2, y2 = v2.position()\n",
    "    v1 = Vehicles(x1,y1, 0.1, 0.05, t1, 1, 2)\n",
    "    v2 = Vehicles(x2, y2, 0.1, 0.04, t1, 2, 2.5)\n",
    "    d = mt.sqrt((x2-x1)*(x2-x1) + (y2-y1)*(y2-y1))\n",
    "    if check_collision(r1, r2, d):\n",
    "        print(check_collision(r1, r2, d))\n",
    "        break"
   ]
  },
  {
   "cell_type": "code",
   "execution_count": null,
   "metadata": {},
   "outputs": [],
   "source": []
  }
 ],
 "metadata": {
  "kernelspec": {
   "display_name": "Python 3",
   "language": "python",
   "name": "python3"
  },
  "language_info": {
   "codemirror_mode": {
    "name": "ipython",
    "version": 3
   },
   "file_extension": ".py",
   "mimetype": "text/x-python",
   "name": "python",
   "nbconvert_exporter": "python",
   "pygments_lexer": "ipython3",
   "version": "3.7.3"
  }
 },
 "nbformat": 4,
 "nbformat_minor": 2
}
